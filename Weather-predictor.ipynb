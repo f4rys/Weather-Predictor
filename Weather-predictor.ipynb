{
 "cells": [
  {
   "cell_type": "markdown",
   "id": "eff17d70",
   "metadata": {},
   "source": [
    "# Collecting weather data"
   ]
  },
  {
   "cell_type": "code",
   "execution_count": null,
   "id": "8292ed71",
   "metadata": {},
   "outputs": [],
   "source": [
    "import os\n",
    "import subprocess\n",
    "import zipfile\n",
    "import csv\n",
    "import fileinput\n",
    "import pandas as pd\n",
    "import shutil\n",
    "import glob"
   ]
  },
  {
   "attachments": {},
   "cell_type": "markdown",
   "id": "e4b9f281",
   "metadata": {},
   "source": [
    "# Collecting data from IMGW"
   ]
  },
  {
   "cell_type": "code",
   "execution_count": null,
   "id": "809873ba",
   "metadata": {},
   "outputs": [],
   "source": [
    "# Initializing variables\n",
    "url = 'https://danepubliczne.imgw.pl/data/dane_pomiarowo_obserwacyjne/dane_meteorologiczne/dobowe/synop/'\n",
    "raw_data_folder = '../imgw_data'\n",
    "unzipped_folder = \"../unzipped/\"\n",
    "output_csv = \"../data.csv\""
   ]
  },
  {
   "cell_type": "code",
   "execution_count": 3,
   "id": "cc231d52",
   "metadata": {},
   "outputs": [],
   "source": [
    "# Collecting latest data from IMGW website. Downloading only zip files missing from imgw_data folder.\n",
    "if not os.path.exists(raw_data_folder):\n",
    "    os.makedirs(raw_data_folder)\n",
    "\n",
    "subprocess.call(['wget', '-r', '--no-parent', '--no-host-directories', '--cut-dirs=1',\n",
    "                    '--directory-prefix=' + raw_data_folder, '-A', 'zip', '--no-clobber', url])"
   ]
  },
  {
   "attachments": {},
   "cell_type": "markdown",
   "id": "f6486aa9",
   "metadata": {},
   "source": [
    "# Concatenating data about Tarnów from IMGW into single CSV"
   ]
  },
  {
   "cell_type": "code",
   "execution_count": null,
   "id": "053e582d",
   "metadata": {},
   "outputs": [],
   "source": [
    "# Unpacking all zip files\n",
    "if not os.path.exists(unzipped_folder):\n",
    "    os.mkdir(unzipped_folder)\n",
    "\n",
    "for root, dirs, files in os.walk(raw_data_folder):\n",
    "    for filename in files:\n",
    "        filepath = os.path.join(root, filename)\n",
    "\n",
    "        if zipfile.is_zipfile(filepath):\n",
    "            with zipfile.ZipFile(filepath) as zip_file:\n",
    "                zip_file.extractall(unzipped_folder)"
   ]
  },
  {
   "cell_type": "code",
   "execution_count": null,
   "id": "bc948a4c",
   "metadata": {},
   "outputs": [],
   "source": [
    "# Removing unnecessary files (containing redudant data about average values)\n",
    "pattern = \"s_d_t*\"\n",
    "files_to_delete = glob.glob(os.path.join(unzipped_folder, pattern))\n",
    "\n",
    "for file_path in files_to_delete:\n",
    "    os.remove(file_path)"
   ]
  },
  {
   "cell_type": "code",
   "execution_count": null,
   "id": "58cb8a44",
   "metadata": {},
   "outputs": [],
   "source": [
    "# Removing rows not containing station \"Tarnów\" from CSV files\n",
    "for filename in os.listdir(unzipped_folder):\n",
    "    if filename.endswith('.csv'):\n",
    "        filepath = os.path.join(unzipped_folder, filename)\n",
    "        with open(filepath, 'r', newline='', encoding=\"ANSI\") as csvfile:\n",
    "            reader = csv.reader(csvfile)\n",
    "            rows_to_keep = [row for row in reader if row[1] == 'TARNÓW']\n",
    "        with open(filepath, 'w', newline='', encoding=\"ANSI\") as csvfile:\n",
    "            writer = csv.writer(csvfile)\n",
    "            writer.writerows(rows_to_keep)"
   ]
  },
  {
   "cell_type": "code",
   "execution_count": null,
   "id": "2ad264cf",
   "metadata": {},
   "outputs": [],
   "source": [
    "# Removing remaining empty CSV files\n",
    "for file_name in os.listdir(unzipped_folder):\n",
    "    if file_name.endswith('.csv'):\n",
    "        file_path = os.path.join(unzipped_folder, file_name)\n",
    "        if os.path.getsize(file_path) == 0:\n",
    "            os.remove(file_path)"
   ]
  },
  {
   "cell_type": "code",
   "execution_count": null,
   "id": "84ae1a95",
   "metadata": {},
   "outputs": [],
   "source": [
    "# Concatenating remaining CSV files\n",
    "csv_files = [file for file in os.listdir(unzipped_folder) if file.endswith(\".csv\")]\n",
    "\n",
    "with open(output_csv, \"w\", newline='') as outfile:\n",
    "    writer = csv.writer(outfile)\n",
    "    for file in csv_files:\n",
    "        path = os.path.join(unzipped_folder, file)\n",
    "        with open(path, \"r\", encoding=\"ANSI\") as infile:\n",
    "            reader = csv.reader(infile)\n",
    "            for row in reader:\n",
    "                writer.writerow(row)"
   ]
  },
  {
   "cell_type": "code",
   "execution_count": null,
   "id": "539f5266",
   "metadata": {},
   "outputs": [],
   "source": [
    "# Removing \"unzipped\" folder\n",
    "shutil.rmtree('../unzipped')"
   ]
  },
  {
   "attachments": {},
   "cell_type": "markdown",
   "id": "2863f676",
   "metadata": {},
   "source": [
    "# Preparing data"
   ]
  },
  {
   "cell_type": "code",
   "execution_count": null,
   "id": "e3be581e",
   "metadata": {},
   "outputs": [],
   "source": [
    "# Sorting rows chronologically\n",
    "with open(output_csv, 'r') as file:\n",
    "    reader = csv.reader(file)\n",
    "    sorted_rows = sorted(reader, key=lambda row: (int(row[2]), int(row[3]), int(row[4])))\n",
    "\n",
    "with open(output_csv, 'w', newline='') as file:\n",
    "    writer = csv.writer(file)\n",
    "    writer.writerows(sorted_rows)"
   ]
  },
  {
   "cell_type": "code",
   "execution_count": null,
   "id": "ec0ed76b",
   "metadata": {},
   "outputs": [],
   "source": [
    "# Adding headers to data\n",
    "headers = ['CODE', 'NAME', 'YEAR', 'MONTH', 'DAY', 'TMAX', 'TMAX_ST', 'TMIN', 'TMIN_ST', \n",
    "            'STD', 'STD_ST', 'TMNG', 'TMNG_ST', 'SMDB', 'SMDB_ST', 'RO', 'PKSN', 'PKSN_ST', \n",
    "            'RWSN', 'RWSN_ST', 'USL', 'USL_ST', 'DESZ', 'DESZ_ST', 'SNEG', 'SNEG_ST', 'DISN', \n",
    "            'DISN_ST', 'GRAD', 'GRAD_ST', 'MGLA', 'MGLA_ST', 'ZMGL', 'ZMGL_ST', 'SADZ', \n",
    "            'SADZ_ST', 'GOLO', 'GOLO_ST', 'ZMNI', 'ZMNI_ST', 'ZMWS', 'ZMWS_ST', 'ZMET', \n",
    "            'ZMET_ST', 'FF10', 'FF10_ST', 'FF15', 'FF15_ST', 'BRZA', 'BRZA_ST', 'ROSA', \n",
    "            'ROSA_ST', 'SZRO', 'SZRO_ST', 'DZPS', 'DZPS_ST', 'DZBL', 'DZBL_ST', 'SG', \n",
    "            'IZD', 'IZD_ST', 'IZG', 'IZG_ST', 'AKTN', 'AKTN_ST']\n",
    "\n",
    "with open(output_csv, 'r') as csv_file:\n",
    "    csv_reader = csv.reader(csv_file)\n",
    "    data = list(csv_reader)\n",
    "\n",
    "with open(output_csv, 'w', newline='') as csv_file:\n",
    "    csv_writer = csv.writer(csv_file)\n",
    "    csv_writer.writerow(headers)\n",
    "    for row in data:\n",
    "        csv_writer.writerow(row)"
   ]
  },
  {
   "cell_type": "code",
   "execution_count": null,
   "id": "fc0c50fc",
   "metadata": {},
   "outputs": [],
   "source": [
    "# Removing columns containing information about station\n",
    "with fileinput.input(files=output_csv, inplace=True) as f_input:\n",
    "    csv_reader = csv.reader(f_input)\n",
    "\n",
    "    for row in csv_reader:\n",
    "        updated_row = row[2:]\n",
    "\n",
    "        print(','.join(updated_row))"
   ]
  },
  {
   "cell_type": "code",
   "execution_count": null,
   "id": "eddb0c82",
   "metadata": {},
   "outputs": [],
   "source": [
    "# Converting date into YYYY-MM-DD format\n",
    "df = pd.read_csv(output_csv, low_memory=False)\n",
    "df[\"DATE\"] = pd.to_datetime(df[[\"YEAR\", \"MONTH\", \"DAY\"]])\n",
    "df.drop([\"YEAR\", \"MONTH\", \"DAY\"], axis=1, inplace=True)\n",
    "df = df[[\"DATE\"] + [col for col in df.columns if col != \"DATE\"]]\n",
    "df.to_csv(output_csv, index=False)"
   ]
  },
  {
   "cell_type": "markdown",
   "id": "842579c7",
   "metadata": {},
   "source": [
    "# Training and saving models"
   ]
  },
  {
   "cell_type": "code",
   "execution_count": null,
   "id": "561ca1f4",
   "metadata": {},
   "outputs": [],
   "source": [
    "import pandas as pd\n",
    "from prophet import Prophet\n",
    "import joblib"
   ]
  },
  {
   "cell_type": "code",
   "execution_count": null,
   "id": "1335318a",
   "metadata": {},
   "outputs": [],
   "source": [
    "data = pd.read_csv('../data.csv', low_memory=False)\n",
    "data['DATE'] = pd.to_datetime(data['DATE'])"
   ]
  },
  {
   "cell_type": "code",
   "execution_count": null,
   "id": "ea0d405a",
   "metadata": {},
   "outputs": [],
   "source": [
    "data_min = data[['DATE', 'TMIN']]\n",
    "data_max = data[['DATE', 'TMAX']]\n",
    "data_pre = data[['DATE', 'SMDB']]\n",
    "\n",
    "data_min.dropna(inplace=True)\n",
    "data_max.dropna(inplace=True)\n",
    "data_pre.dropna(inplace=True)\n",
    "\n",
    "data_min.columns = ['ds', 'y']\n",
    "data_max.columns = ['ds', 'y']\n",
    "data_pre.columns = ['ds', 'y']"
   ]
  },
  {
   "cell_type": "code",
   "execution_count": null,
   "id": "8a9e398a",
   "metadata": {},
   "outputs": [],
   "source": [
    "model_min = Prophet()\n",
    "model_max = Prophet()\n",
    "model_pre = Prophet()"
   ]
  },
  {
   "cell_type": "code",
   "execution_count": null,
   "id": "9ae59bb6",
   "metadata": {},
   "outputs": [],
   "source": [
    "model_min.fit(data_min)\n",
    "model_max.fit(data_max)\n",
    "model_pre.fit(data_pre)"
   ]
  },
  {
   "cell_type": "code",
   "execution_count": null,
   "id": "950c3082",
   "metadata": {},
   "outputs": [],
   "source": [
    "joblib.dump(model_min, '../models/model_min.joblib', compress=9)\n",
    "joblib.dump(model_max, '../models/model_max.joblib', compress=9)\n",
    "joblib.dump(model_pre, '../models/model_pre.joblib', compress=9)"
   ]
  },
  {
   "cell_type": "markdown",
   "id": "9d2f14e6",
   "metadata": {},
   "source": [
    "# Making predictions"
   ]
  },
  {
   "cell_type": "code",
   "execution_count": 21,
   "id": "70a189f2",
   "metadata": {},
   "outputs": [],
   "source": [
    "import joblib\n",
    "import matplotlib.pyplot as plt"
   ]
  },
  {
   "cell_type": "code",
   "execution_count": 22,
   "id": "4b724913",
   "metadata": {},
   "outputs": [],
   "source": [
    "model_min = joblib.load('../models/model_min.joblib')\n",
    "model_max = joblib.load('../models/model_max.joblib')\n",
    "model_pre = joblib.load('../models/model_pre.joblib')"
   ]
  },
  {
   "cell_type": "code",
   "execution_count": 23,
   "id": "1783204e",
   "metadata": {},
   "outputs": [],
   "source": [
    "future_dates = model_min.make_future_dataframe(periods=30)  # Predict for 1 year from the last available date"
   ]
  },
  {
   "cell_type": "code",
   "execution_count": 24,
   "id": "66df1acf",
   "metadata": {},
   "outputs": [],
   "source": [
    "forecast_min = model_min.predict(future_dates)\n",
    "forecast_max = model_max.predict(future_dates)\n",
    "forecast_precip = model_pre.predict(future_dates)"
   ]
  },
  {
   "cell_type": "code",
   "execution_count": 25,
   "id": "27adbd98",
   "metadata": {},
   "outputs": [],
   "source": [
    "predicted_min = forecast_min[['ds', 'yhat']].tail(30)  # Last 365 rows for the minimum temperature\n",
    "predicted_max = forecast_max[['ds', 'yhat']].tail(30)  # Last 365 rows for the maximum temperature\n",
    "predicted_precip = forecast_precip[['ds', 'yhat']].tail(30)  # Last 365 rows for the precipitation"
   ]
  },
  {
   "cell_type": "code",
   "execution_count": 27,
   "id": "57ab50fd",
   "metadata": {},
   "outputs": [
    {
     "data": {
      "image/png": "[encoded data removed]",
      "text/plain": [
       "<Figure size 1000x600 with 1 Axes>"
      ]
     },
     "metadata": {},
     "output_type": "display_data"
    }
   ],
   "source": [
    "# Plotting the predictions\n",
    "plt.figure(figsize=(10, 6))\n",
    "plt.plot(predicted_min['ds'], predicted_min['yhat'], label='Minimum Temperature')\n",
    "plt.plot(predicted_max['ds'], predicted_max['yhat'], label='Maximum Temperature')\n",
    "plt.plot(predicted_precip['ds'], predicted_precip['yhat'], label='Precipitation')\n",
    "plt.xlabel('Date')\n",
    "plt.ylabel('Value')\n",
    "plt.title('Weather Predictions')\n",
    "plt.legend()\n",
    "plt.show()"
   ]
  }
 ],
 "metadata": {
  "kernelspec": {
   "display_name": "base",
   "language": "python",
   "name": "python3"
  },
  "language_info": {
   "codemirror_mode": {
    "name": "ipython",
    "version": 3
   },
   "file_extension": ".py",
   "mimetype": "text/x-python",
   "name": "python",
   "nbconvert_exporter": "python",
   "pygments_lexer": "ipython3",
   "version": "3.7.13"
  }
 },
 "nbformat": 4,
 "nbformat_minor": 5
}
