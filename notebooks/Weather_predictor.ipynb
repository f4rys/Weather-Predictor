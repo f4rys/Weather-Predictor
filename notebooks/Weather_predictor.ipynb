{
  "cells": [
    {
      "cell_type": "code",
      "execution_count": null,
      "id": "LIpeO3X48NFZ",
      "metadata": {
        "colab": {
          "base_uri": "https://localhost:8080/"
        },
        "id": "LIpeO3X48NFZ",
        "outputId": "39ffa766-701e-4d48-eba1-d24f3ef0059b"
      },
      "outputs": [],
      "source": [
        "!git clone -b colab https://github.com/f4rys/Weather-Predictor\n",
        "%cd Weather-Predictor/notebooks"
      ]
    },
    {
      "cell_type": "markdown",
      "id": "eff17d70",
      "metadata": {
        "id": "eff17d70"
      },
      "source": [
        "# Collecting weather data"
      ]
    },
    {
      "cell_type": "code",
      "execution_count": null,
      "id": "8292ed71",
      "metadata": {
        "id": "8292ed71"
      },
      "outputs": [],
      "source": [
        "import os\n",
        "import subprocess\n",
        "import zipfile\n",
        "import csv\n",
        "import fileinput\n",
        "import pandas as pd\n",
        "import shutil\n",
        "import glob"
      ]
    },
    {
      "cell_type": "markdown",
      "id": "e4b9f281",
      "metadata": {
        "id": "e4b9f281"
      },
      "source": [
        "# Collecting data from IMGW"
      ]
    },
    {
      "cell_type": "code",
      "execution_count": null,
      "id": "809873ba",
      "metadata": {
        "id": "809873ba"
      },
      "outputs": [],
      "source": [
        "# Initializing variables\n",
        "url = 'https://danepubliczne.imgw.pl/data/dane_pomiarowo_obserwacyjne/dane_meteorologiczne/dobowe/synop/'\n",
        "raw_data_folder = '../imgw_data'\n",
        "unzipped_folder = \"../unzipped/\"\n",
        "output_csv = \"../data.csv\""
      ]
    },
    {
      "cell_type": "code",
      "execution_count": null,
      "id": "cc231d52",
      "metadata": {
        "colab": {
          "base_uri": "https://localhost:8080/"
        },
        "id": "cc231d52",
        "outputId": "030cdf88-bba3-4dbe-b24e-1de4080e25eb"
      },
      "outputs": [],
      "source": [
        "# Collecting latest data from IMGW website. Downloading only zip files missing from imgw_data folder.\n",
        "if not os.path.exists(raw_data_folder):\n",
        "    os.makedirs(raw_data_folder)\n",
        "\n",
        "subprocess.call(['wget', '-r', '--no-parent', '--no-host-directories', '--cut-dirs=1',\n",
        "                    '--directory-prefix=' + raw_data_folder, '-A', 'zip', '--no-clobber', url])"
      ]
    },
    {
      "cell_type": "markdown",
      "id": "f6486aa9",
      "metadata": {
        "id": "f6486aa9"
      },
      "source": [
        "# Concatenating data about Tarnów from IMGW into single CSV"
      ]
    },
    {
      "cell_type": "code",
      "execution_count": null,
      "id": "053e582d",
      "metadata": {
        "id": "053e582d"
      },
      "outputs": [],
      "source": [
        "# Unpacking all zip files\n",
        "if not os.path.exists(unzipped_folder):\n",
        "    os.mkdir(unzipped_folder)\n",
        "\n",
        "for root, dirs, files in os.walk(raw_data_folder):\n",
        "    for filename in files:\n",
        "        filepath = os.path.join(root, filename)\n",
        "\n",
        "        if zipfile.is_zipfile(filepath):\n",
        "            with zipfile.ZipFile(filepath) as zip_file:\n",
        "                zip_file.extractall(unzipped_folder)"
      ]
    },
    {
      "cell_type": "code",
      "execution_count": null,
      "id": "bc948a4c",
      "metadata": {
        "id": "bc948a4c"
      },
      "outputs": [],
      "source": [
        "# Removing unnecessary files (containing redudant data about average values)\n",
        "pattern = \"s_d_t*\"\n",
        "files_to_delete = glob.glob(os.path.join(unzipped_folder, pattern))\n",
        "\n",
        "for file_path in files_to_delete:\n",
        "    os.remove(file_path)"
      ]
    },
    {
      "cell_type": "code",
      "execution_count": null,
      "id": "58cb8a44",
      "metadata": {
        "id": "58cb8a44"
      },
      "outputs": [],
      "source": [
        "# Removing rows not containing station \"Tarnów\" from CSV files\n",
        "for filename in os.listdir(unzipped_folder):\n",
        "    if filename.endswith('.csv'):\n",
        "        filepath = os.path.join(unzipped_folder, filename)\n",
        "        with open(filepath, 'r', newline='', encoding=\"cp1250\") as csvfile:\n",
        "            reader = csv.reader(csvfile)\n",
        "            rows_to_keep = [row for row in reader if row[1] == 'TARNÓW']\n",
        "        with open(filepath, 'w', newline='', encoding=\"cp1250\") as csvfile:\n",
        "            writer = csv.writer(csvfile)\n",
        "            writer.writerows(rows_to_keep)"
      ]
    },
    {
      "cell_type": "code",
      "execution_count": null,
      "id": "2ad264cf",
      "metadata": {
        "id": "2ad264cf"
      },
      "outputs": [],
      "source": [
        "# Removing remaining empty CSV files\n",
        "for file_name in os.listdir(unzipped_folder):\n",
        "    if file_name.endswith('.csv'):\n",
        "        file_path = os.path.join(unzipped_folder, file_name)\n",
        "        if os.path.getsize(file_path) == 0:\n",
        "            os.remove(file_path)"
      ]
    },
    {
      "cell_type": "code",
      "execution_count": null,
      "id": "84ae1a95",
      "metadata": {
        "id": "84ae1a95"
      },
      "outputs": [],
      "source": [
        "# Concatenating remaining CSV files\n",
        "csv_files = [file for file in os.listdir(unzipped_folder) if file.endswith(\".csv\")]\n",
        "\n",
        "with open(output_csv, \"w\", newline='') as outfile:\n",
        "    writer = csv.writer(outfile)\n",
        "    for file in csv_files:\n",
        "        path = os.path.join(unzipped_folder, file)\n",
        "        with open(path, \"r\", encoding=\"cp1250\") as infile:\n",
        "            reader = csv.reader(infile)\n",
        "            for row in reader:\n",
        "                writer.writerow(row)"
      ]
    },
    {
      "cell_type": "code",
      "execution_count": null,
      "id": "539f5266",
      "metadata": {
        "id": "539f5266"
      },
      "outputs": [],
      "source": [
        "# Removing \"unzipped\" folder\n",
        "shutil.rmtree('../unzipped')"
      ]
    },
    {
      "cell_type": "markdown",
      "id": "2863f676",
      "metadata": {
        "id": "2863f676"
      },
      "source": [
        "# Preparing data"
      ]
    },
    {
      "cell_type": "code",
      "execution_count": null,
      "id": "e3be581e",
      "metadata": {
        "id": "e3be581e"
      },
      "outputs": [],
      "source": [
        "# Sorting rows chronologically\n",
        "with open(output_csv, 'r') as file:\n",
        "    reader = csv.reader(file)\n",
        "    sorted_rows = sorted(reader, key=lambda row: (int(row[2]), int(row[3]), int(row[4])))\n",
        "\n",
        "with open(output_csv, 'w', newline='') as file:\n",
        "    writer = csv.writer(file)\n",
        "    writer.writerows(sorted_rows)"
      ]
    },
    {
      "cell_type": "code",
      "execution_count": null,
      "id": "ec0ed76b",
      "metadata": {
        "id": "ec0ed76b"
      },
      "outputs": [],
      "source": [
        "# Adding headers to data\n",
        "headers = ['CODE', 'NAME', 'YEAR', 'MONTH', 'DAY', 'TMAX', 'TMAX_ST', 'TMIN', 'TMIN_ST',\n",
        "            'STD', 'STD_ST', 'TMNG', 'TMNG_ST', 'SMDB', 'SMDB_ST', 'RO', 'PKSN', 'PKSN_ST',\n",
        "            'RWSN', 'RWSN_ST', 'USL', 'USL_ST', 'DESZ', 'DESZ_ST', 'SNEG', 'SNEG_ST', 'DISN',\n",
        "            'DISN_ST', 'GRAD', 'GRAD_ST', 'MGLA', 'MGLA_ST', 'ZMGL', 'ZMGL_ST', 'SADZ',\n",
        "            'SADZ_ST', 'GOLO', 'GOLO_ST', 'ZMNI', 'ZMNI_ST', 'ZMWS', 'ZMWS_ST', 'ZMET',\n",
        "            'ZMET_ST', 'FF10', 'FF10_ST', 'FF15', 'FF15_ST', 'BRZA', 'BRZA_ST', 'ROSA',\n",
        "            'ROSA_ST', 'SZRO', 'SZRO_ST', 'DZPS', 'DZPS_ST', 'DZBL', 'DZBL_ST', 'SG',\n",
        "            'IZD', 'IZD_ST', 'IZG', 'IZG_ST', 'AKTN', 'AKTN_ST']\n",
        "\n",
        "with open(output_csv, 'r') as csv_file:\n",
        "    csv_reader = csv.reader(csv_file)\n",
        "    data = list(csv_reader)\n",
        "\n",
        "with open(output_csv, 'w', newline='') as csv_file:\n",
        "    csv_writer = csv.writer(csv_file)\n",
        "    csv_writer.writerow(headers)\n",
        "    for row in data:\n",
        "        csv_writer.writerow(row)"
      ]
    },
    {
      "cell_type": "code",
      "execution_count": null,
      "id": "fc0c50fc",
      "metadata": {
        "id": "fc0c50fc"
      },
      "outputs": [],
      "source": [
        "# Removing columns containing information about station\n",
        "with fileinput.input(files=output_csv, inplace=True) as f_input:\n",
        "    csv_reader = csv.reader(f_input)\n",
        "\n",
        "    for row in csv_reader:\n",
        "        updated_row = row[2:]\n",
        "\n",
        "        print(','.join(updated_row))"
      ]
    },
    {
      "cell_type": "code",
      "execution_count": null,
      "id": "eddb0c82",
      "metadata": {
        "id": "eddb0c82"
      },
      "outputs": [],
      "source": [
        "# Converting date into YYYY-MM-DD format\n",
        "df = pd.read_csv(output_csv, low_memory=False)\n",
        "df[\"DATE\"] = pd.to_datetime(df[[\"YEAR\", \"MONTH\", \"DAY\"]])\n",
        "df.drop([\"YEAR\", \"MONTH\", \"DAY\"], axis=1, inplace=True)\n",
        "df = df[[\"DATE\"] + [col for col in df.columns if col != \"DATE\"]]\n",
        "df.to_csv(output_csv, index=False)"
      ]
    },
    {
      "cell_type": "markdown",
      "id": "842579c7",
      "metadata": {
        "id": "842579c7"
      },
      "source": [
        "# Training and saving models"
      ]
    },
    {
      "cell_type": "code",
      "execution_count": null,
      "id": "561ca1f4",
      "metadata": {
        "id": "561ca1f4"
      },
      "outputs": [],
      "source": [
        "import pandas as pd\n",
        "from prophet import Prophet\n",
        "import joblib"
      ]
    },
    {
      "cell_type": "code",
      "execution_count": null,
      "id": "1335318a",
      "metadata": {
        "id": "1335318a"
      },
      "outputs": [],
      "source": [
        "data = pd.read_csv('../data.csv', low_memory=False)\n",
        "data['DATE'] = pd.to_datetime(data['DATE'])"
      ]
    },
    {
      "cell_type": "code",
      "execution_count": null,
      "id": "ea0d405a",
      "metadata": {
        "colab": {
          "base_uri": "https://localhost:8080/"
        },
        "id": "ea0d405a",
        "outputId": "af5389f1-5832-4968-e5c3-b81e97dc4180"
      },
      "outputs": [],
      "source": [
        "data_min = data[['DATE', 'TMIN']]\n",
        "data_max = data[['DATE', 'TMAX']]\n",
        "data_pre = data[['DATE', 'SMDB']]\n",
        "\n",
        "data_min.dropna(inplace=True)\n",
        "data_max.dropna(inplace=True)\n",
        "data_pre.dropna(inplace=True)\n",
        "\n",
        "data_min.columns = ['ds', 'y']\n",
        "data_max.columns = ['ds', 'y']\n",
        "data_pre.columns = ['ds', 'y']"
      ]
    },
    {
      "cell_type": "code",
      "execution_count": null,
      "id": "8a9e398a",
      "metadata": {
        "id": "8a9e398a"
      },
      "outputs": [],
      "source": [
        "model_min = Prophet()\n",
        "model_max = Prophet()\n",
        "model_pre = Prophet()"
      ]
    },
    {
      "cell_type": "code",
      "execution_count": null,
      "id": "9ae59bb6",
      "metadata": {
        "colab": {
          "base_uri": "https://localhost:8080/"
        },
        "id": "9ae59bb6",
        "outputId": "c40230c0-18a9-4276-e274-9b68410985e0"
      },
      "outputs": [],
      "source": [
        "model_min.fit(data_min)\n",
        "model_max.fit(data_max)\n",
        "model_pre.fit(data_pre)"
      ]
    },
    {
      "cell_type": "code",
      "execution_count": null,
      "id": "950c3082",
      "metadata": {
        "colab": {
          "base_uri": "https://localhost:8080/"
        },
        "id": "950c3082",
        "outputId": "88248ec1-5290-4530-c7ea-8ad03b93c48b"
      },
      "outputs": [],
      "source": [
        "joblib.dump(model_min, '../models/model_min.joblib', compress=9)\n",
        "joblib.dump(model_max, '../models/model_max.joblib', compress=9)\n",
        "joblib.dump(model_pre, '../models/model_pre.joblib', compress=9)"
      ]
    },
    {
      "cell_type": "markdown",
      "id": "9d2f14e6",
      "metadata": {
        "id": "9d2f14e6"
      },
      "source": [
        "# Making predictions"
      ]
    },
    {
      "cell_type": "code",
      "execution_count": null,
      "id": "70a189f2",
      "metadata": {
        "id": "70a189f2"
      },
      "outputs": [],
      "source": [
        "import joblib\n",
        "import matplotlib.pyplot as plt"
      ]
    },
    {
      "cell_type": "code",
      "execution_count": null,
      "id": "4b724913",
      "metadata": {
        "id": "4b724913"
      },
      "outputs": [],
      "source": [
        "model_min = joblib.load('../models/model_min.joblib')\n",
        "model_max = joblib.load('../models/model_max.joblib')\n",
        "model_pre = joblib.load('../models/model_pre.joblib')"
      ]
    },
    {
      "cell_type": "code",
      "execution_count": null,
      "id": "1783204e",
      "metadata": {
        "id": "1783204e"
      },
      "outputs": [],
      "source": [
        "future_dates = model_min.make_future_dataframe(periods=30)  # Predict for 1 year from the last available date"
      ]
    },
    {
      "cell_type": "code",
      "execution_count": null,
      "id": "66df1acf",
      "metadata": {
        "id": "66df1acf"
      },
      "outputs": [],
      "source": [
        "forecast_min = model_min.predict(future_dates)\n",
        "forecast_max = model_max.predict(future_dates)\n",
        "forecast_precip = model_pre.predict(future_dates)"
      ]
    },
    {
      "cell_type": "code",
      "execution_count": null,
      "id": "27adbd98",
      "metadata": {
        "id": "27adbd98"
      },
      "outputs": [],
      "source": [
        "predicted_min = forecast_min[['ds', 'yhat']].tail(30)  # Last 365 rows for the minimum temperature\n",
        "predicted_max = forecast_max[['ds', 'yhat']].tail(30)  # Last 365 rows for the maximum temperature\n",
        "predicted_precip = forecast_precip[['ds', 'yhat']].tail(30)  # Last 365 rows for the precipitation"
      ]
    },
    {
      "cell_type": "code",
      "execution_count": null,
      "id": "57ab50fd",
      "metadata": {
        "colab": {
          "base_uri": "https://localhost:8080/",
          "height": 564
        },
        "id": "57ab50fd",
        "outputId": "cd0d542f-806a-42bb-ecd8-be6325896abd"
      },
      "outputs": [],
      "source": [
        "# Plotting the predictions\n",
        "plt.figure(figsize=(10, 6))\n",
        "plt.plot(predicted_min['ds'], predicted_min['yhat'], label='Minimum Temperature')\n",
        "plt.plot(predicted_max['ds'], predicted_max['yhat'], label='Maximum Temperature')\n",
        "plt.plot(predicted_precip['ds'], predicted_precip['yhat'], label='Precipitation')\n",
        "plt.xlabel('Date')\n",
        "plt.ylabel('Value')\n",
        "plt.title('Weather Predictions')\n",
        "plt.legend()\n",
        "plt.show()"
      ]
    }
  ],
  "metadata": {
    "colab": {
      "provenance": []
    },
    "kernelspec": {
      "display_name": "base",
      "language": "python",
      "name": "python3"
    },
    "language_info": {
      "codemirror_mode": {
        "name": "ipython",
        "version": 3
      },
      "file_extension": ".py",
      "mimetype": "text/x-python",
      "name": "python",
      "nbconvert_exporter": "python",
      "pygments_lexer": "ipython3",
      "version": "3.7.13"
    }
  },
  "nbformat": 4,
  "nbformat_minor": 5
}
